{
 "cells": [
  {
   "cell_type": "markdown",
   "metadata": {},
   "source": [
    "# Crash Course Review Exercises "
   ]
  },
  {
   "cell_type": "markdown",
   "metadata": {},
   "source": [
    "** Import numpy,pandas,matplotlib,and sklearn. Also set visualizations to be shown inline in the notebook.**"
   ]
  },
  {
   "cell_type": "code",
   "execution_count": 25,
   "metadata": {},
   "outputs": [],
   "source": [
    "import numpy as np\n",
    "import pandas as pd\n",
    "import matplotlib.pyplot as plt\n",
    "from sklearn.preprocessing import MinMaxScaler\n",
    "%matplotlib inline"
   ]
  },
  {
   "cell_type": "markdown",
   "metadata": {},
   "source": [
    "** Set Numpy's Random Seed to 101 **"
   ]
  },
  {
   "cell_type": "code",
   "execution_count": 19,
   "metadata": {},
   "outputs": [],
   "source": [
    "np.random.seed(101)"
   ]
  },
  {
   "cell_type": "markdown",
   "metadata": {},
   "source": [
    "** Create a NumPy Matrix of 100 rows by 5 columns consisting of random integers from 1-100. (Keep in mind that the upper limit may be exclusive.**"
   ]
  },
  {
   "cell_type": "code",
   "execution_count": 7,
   "metadata": {},
   "outputs": [],
   "source": [
    "random_matrix = np.random.randint(1,100,(100,5))"
   ]
  },
  {
   "cell_type": "code",
   "execution_count": 8,
   "metadata": {},
   "outputs": [
    {
     "data": {
      "text/plain": [
       "(100, 5)"
      ]
     },
     "execution_count": 8,
     "metadata": {},
     "output_type": "execute_result"
    }
   ],
   "source": [
    "random_matrix.shape"
   ]
  },
  {
   "cell_type": "markdown",
   "metadata": {},
   "source": [
    "** Create a 2-D visualization using plt.imshow of the numpy matrix with a colorbar. Add a title to your plot. Bonus: Figure out how to change the [*aspect*](https://stackoverflow.com/questions/10540929/figure-of-imshow-is-too-small) of the imshow() plot. **"
   ]
  },
  {
   "cell_type": "code",
   "execution_count": 12,
   "metadata": {},
   "outputs": [
    {
     "data": {
      "text/plain": [
       "<matplotlib.colorbar.Colorbar at 0x1c0638bc5c8>"
      ]
     },
     "execution_count": 12,
     "metadata": {},
     "output_type": "execute_result"
    },
    {
     "data": {
      "image/png": "[encoded data removed]",
      "text/plain": [
       "<Figure size 432x288 with 2 Axes>"
      ]
     },
     "metadata": {
      "needs_background": "light"
     },
     "output_type": "display_data"
    }
   ],
   "source": [
    "plt.imshow(random_matrix, interpolation='nearest', aspect='auto')\n",
    "plt.colorbar()"
   ]
  },
  {
   "cell_type": "markdown",
   "metadata": {},
   "source": [
    "** Now use pd.DataFrame() to read in this numpy array as a dataframe. Simple pass in the numpy array into that function to get back a dataframe. Pandas will auto label the columns to 0-4**"
   ]
  },
  {
   "cell_type": "code",
   "execution_count": 20,
   "metadata": {},
   "outputs": [],
   "source": [
    "df = pd.DataFrame(random_matrix)"
   ]
  },
  {
   "cell_type": "code",
   "execution_count": 21,
   "metadata": {},
   "outputs": [
    {
     "data": {
      "text/html": [
       "<div>\n",
       "<style scoped>\n",
       "    .dataframe tbody tr th:only-of-type {\n",
       "        vertical-align: middle;\n",
       "    }\n",
       "\n",
       "    .dataframe tbody tr th {\n",
       "        vertical-align: top;\n",
       "    }\n",
       "\n",
       "    .dataframe thead th {\n",
       "        text-align: right;\n",
       "    }\n",
       "</style>\n",
       "<table border=\"1\" class=\"dataframe\">\n",
       "  <thead>\n",
       "    <tr style=\"text-align: right;\">\n",
       "      <th></th>\n",
       "      <th>0</th>\n",
       "      <th>1</th>\n",
       "      <th>2</th>\n",
       "      <th>3</th>\n",
       "      <th>4</th>\n",
       "    </tr>\n",
       "  </thead>\n",
       "  <tbody>\n",
       "    <tr>\n",
       "      <th>0</th>\n",
       "      <td>16</td>\n",
       "      <td>32</td>\n",
       "      <td>24</td>\n",
       "      <td>17</td>\n",
       "      <td>96</td>\n",
       "    </tr>\n",
       "    <tr>\n",
       "      <th>1</th>\n",
       "      <td>27</td>\n",
       "      <td>91</td>\n",
       "      <td>16</td>\n",
       "      <td>95</td>\n",
       "      <td>43</td>\n",
       "    </tr>\n",
       "    <tr>\n",
       "      <th>2</th>\n",
       "      <td>66</td>\n",
       "      <td>22</td>\n",
       "      <td>35</td>\n",
       "      <td>27</td>\n",
       "      <td>82</td>\n",
       "    </tr>\n",
       "    <tr>\n",
       "      <th>3</th>\n",
       "      <td>80</td>\n",
       "      <td>30</td>\n",
       "      <td>64</td>\n",
       "      <td>31</td>\n",
       "      <td>93</td>\n",
       "    </tr>\n",
       "    <tr>\n",
       "      <th>4</th>\n",
       "      <td>99</td>\n",
       "      <td>74</td>\n",
       "      <td>43</td>\n",
       "      <td>14</td>\n",
       "      <td>28</td>\n",
       "    </tr>\n",
       "    <tr>\n",
       "      <th>...</th>\n",
       "      <td>...</td>\n",
       "      <td>...</td>\n",
       "      <td>...</td>\n",
       "      <td>...</td>\n",
       "      <td>...</td>\n",
       "    </tr>\n",
       "    <tr>\n",
       "      <th>95</th>\n",
       "      <td>12</td>\n",
       "      <td>62</td>\n",
       "      <td>36</td>\n",
       "      <td>36</td>\n",
       "      <td>84</td>\n",
       "    </tr>\n",
       "    <tr>\n",
       "      <th>96</th>\n",
       "      <td>49</td>\n",
       "      <td>59</td>\n",
       "      <td>1</td>\n",
       "      <td>59</td>\n",
       "      <td>25</td>\n",
       "    </tr>\n",
       "    <tr>\n",
       "      <th>97</th>\n",
       "      <td>24</td>\n",
       "      <td>79</td>\n",
       "      <td>55</td>\n",
       "      <td>28</td>\n",
       "      <td>28</td>\n",
       "    </tr>\n",
       "    <tr>\n",
       "      <th>98</th>\n",
       "      <td>22</td>\n",
       "      <td>63</td>\n",
       "      <td>43</td>\n",
       "      <td>4</td>\n",
       "      <td>11</td>\n",
       "    </tr>\n",
       "    <tr>\n",
       "      <th>99</th>\n",
       "      <td>29</td>\n",
       "      <td>22</td>\n",
       "      <td>77</td>\n",
       "      <td>17</td>\n",
       "      <td>77</td>\n",
       "    </tr>\n",
       "  </tbody>\n",
       "</table>\n",
       "<p>100 rows × 5 columns</p>\n",
       "</div>"
      ],
      "text/plain": [
       "     0   1   2   3   4\n",
       "0   16  32  24  17  96\n",
       "1   27  91  16  95  43\n",
       "2   66  22  35  27  82\n",
       "3   80  30  64  31  93\n",
       "4   99  74  43  14  28\n",
       "..  ..  ..  ..  ..  ..\n",
       "95  12  62  36  36  84\n",
       "96  49  59   1  59  25\n",
       "97  24  79  55  28  28\n",
       "98  22  63  43   4  11\n",
       "99  29  22  77  17  77\n",
       "\n",
       "[100 rows x 5 columns]"
      ]
     },
     "execution_count": 21,
     "metadata": {},
     "output_type": "execute_result"
    }
   ],
   "source": [
    "df"
   ]
  },
  {
   "cell_type": "markdown",
   "metadata": {},
   "source": [
    "** Now create a scatter plot using pandas of the 0 column vs the 1 column. **"
   ]
  },
  {
   "cell_type": "code",
   "execution_count": 22,
   "metadata": {},
   "outputs": [
    {
     "data": {
      "text/plain": [
       "<matplotlib.axes._subplots.AxesSubplot at 0x1c063bbdbc8>"
      ]
     },
     "execution_count": 22,
     "metadata": {},
     "output_type": "execute_result"
    },
    {
     "data": {
      "image/png": "[encoded data removed]",
      "text/plain": [
       "<Figure size 432x288 with 1 Axes>"
      ]
     },
     "metadata": {
      "needs_background": "light"
     },
     "output_type": "display_data"
    }
   ],
   "source": [
    "df.plot(x=0, y=1, kind=\"scatter\")"
   ]
  },
  {
   "cell_type": "markdown",
   "metadata": {},
   "source": [
    "** Now scale the data to have a minimum of 0 and a maximum value of 1 using scikit-learn. **"
   ]
  },
  {
   "cell_type": "code",
   "execution_count": 26,
   "metadata": {},
   "outputs": [],
   "source": [
    "scaler = MinMaxScaler()"
   ]
  },
  {
   "cell_type": "code",
   "execution_count": 27,
   "metadata": {},
   "outputs": [
    {
     "data": {
      "text/plain": [
       "MinMaxScaler()"
      ]
     },
     "execution_count": 27,
     "metadata": {},
     "output_type": "execute_result"
    }
   ],
   "source": [
    "scaler.fit(df)"
   ]
  },
  {
   "cell_type": "code",
   "execution_count": 28,
   "metadata": {},
   "outputs": [
    {
     "data": {
      "text/plain": [
       "array([[0.15306122, 0.31632653, 0.2371134 , 0.15625   , 0.96907216],\n",
       "       [0.26530612, 0.91836735, 0.15463918, 0.96875   , 0.42268041],\n",
       "       [0.66326531, 0.21428571, 0.35051546, 0.26041667, 0.82474227],\n",
       "       [0.80612245, 0.29591837, 0.64948454, 0.30208333, 0.93814433],\n",
       "       [1.        , 0.74489796, 0.43298969, 0.125     , 0.26804124],\n",
       "       [0.7755102 , 0.        , 0.87628866, 0.69791667, 1.        ],\n",
       "       [0.53061224, 0.23469388, 0.1443299 , 0.94791667, 0.24742268],\n",
       "       [0.18367347, 0.16326531, 0.63917526, 0.25      , 0.80412371],\n",
       "       [0.86734694, 0.3877551 , 0.67010309, 0.47916667, 0.50515464],\n",
       "       [0.89795918, 0.64285714, 0.89690722, 0.13541667, 0.63917526],\n",
       "       [0.14285714, 0.54081633, 0.70103093, 1.        , 0.06185567],\n",
       "       [0.67346939, 0.62244898, 0.02061856, 0.14583333, 0.81443299],\n",
       "       [0.47959184, 0.76530612, 0.87628866, 0.16666667, 0.07216495],\n",
       "       [0.8877551 , 0.53061224, 0.15463918, 0.95833333, 0.16494845],\n",
       "       [0.34693878, 0.24489796, 0.2371134 , 0.46875   , 0.55670103],\n",
       "       [0.25510204, 0.65306122, 0.92783505, 0.91666667, 0.56701031],\n",
       "       [0.8877551 , 0.18367347, 0.32989691, 0.3125    , 0.75257732],\n",
       "       [0.12244898, 0.87755102, 0.16494845, 0.51041667, 0.36082474],\n",
       "       [0.78571429, 0.91836735, 0.6185567 , 0.0625    , 0.8556701 ],\n",
       "       [0.86734694, 0.78571429, 0.74226804, 0.96875   , 0.34020619],\n",
       "       [0.04081633, 0.37755102, 0.81443299, 0.42708333, 0.83505155],\n",
       "       [0.1122449 , 0.31632653, 0.68041237, 0.125     , 0.56701031],\n",
       "       [0.86734694, 0.67346939, 0.16494845, 0.64583333, 0.43298969],\n",
       "       [0.46938776, 0.51020408, 0.3814433 , 0.78125   , 0.96907216],\n",
       "       [0.51020408, 0.54081633, 0.06185567, 0.        , 1.        ],\n",
       "       [0.16326531, 0.35714286, 0.21649485, 0.33333333, 0.68041237],\n",
       "       [0.8877551 , 0.44897959, 0.63917526, 0.36458333, 0.43298969],\n",
       "       [0.89795918, 0.92857143, 0.84536082, 0.92708333, 0.10309278],\n",
       "       [0.12244898, 0.06122449, 0.65979381, 0.14583333, 0.17525773],\n",
       "       [0.06122449, 0.29591837, 0.11340206, 0.48958333, 0.2371134 ],\n",
       "       [0.51020408, 0.54081633, 0.3814433 , 0.79166667, 0.4742268 ],\n",
       "       [0.70408163, 0.58163265, 0.43298969, 0.65625   , 0.8556701 ],\n",
       "       [0.2244898 , 0.48979592, 0.7628866 , 0.17708333, 0.42268041],\n",
       "       [0.80612245, 0.56122449, 0.67010309, 0.38541667, 0.28865979],\n",
       "       [0.3877551 , 0.84693878, 0.35051546, 0.75      , 0.24742268],\n",
       "       [0.20408163, 0.8877551 , 0.12371134, 0.14583333, 0.91752577],\n",
       "       [0.63265306, 0.21428571, 0.3814433 , 0.38541667, 0.16494845],\n",
       "       [0.28571429, 0.70408163, 0.12371134, 0.79166667, 0.64948454],\n",
       "       [0.37755102, 0.66326531, 0.44329897, 0.73958333, 0.94845361],\n",
       "       [0.69387755, 0.05102041, 0.07216495, 0.55208333, 0.74226804],\n",
       "       [0.24489796, 0.95918367, 0.4742268 , 0.375     , 0.1443299 ],\n",
       "       [0.92857143, 0.79591837, 0.74226804, 0.54166667, 0.16494845],\n",
       "       [0.90816327, 0.15306122, 0.15463918, 0.42708333, 0.05154639],\n",
       "       [0.12244898, 0.28571429, 0.2371134 , 0.78125   , 0.07216495],\n",
       "       [0.10204082, 0.41836735, 1.        , 0.5625    , 0.67010309],\n",
       "       [0.96938776, 0.97959184, 0.67010309, 0.77083333, 0.84536082],\n",
       "       [0.10204082, 0.7244898 , 0.27835052, 0.57291667, 0.94845361],\n",
       "       [0.81632653, 0.98979592, 0.72164948, 0.97916667, 0.78350515],\n",
       "       [0.71428571, 0.92857143, 0.98969072, 0.10416667, 0.12371134],\n",
       "       [0.95918367, 0.36734694, 0.12371134, 0.47916667, 0.60824742],\n",
       "       [0.37755102, 0.06122449, 0.03092784, 0.84375   , 0.39175258],\n",
       "       [0.53061224, 0.09183673, 0.64948454, 0.78125   , 0.48453608],\n",
       "       [0.95918367, 0.59183673, 0.77319588, 0.97916667, 0.92783505],\n",
       "       [0.24489796, 0.10204082, 0.        , 0.10416667, 0.36082474],\n",
       "       [0.46938776, 0.7755102 , 0.        , 0.55208333, 0.6185567 ],\n",
       "       [0.        , 0.15306122, 0.82474227, 0.46875   , 0.90721649],\n",
       "       [0.3877551 , 0.15306122, 0.21649485, 0.51041667, 1.        ],\n",
       "       [0.46938776, 0.30612245, 0.71134021, 0.66666667, 0.94845361],\n",
       "       [0.47959184, 0.08163265, 0.67010309, 0.64583333, 0.42268041],\n",
       "       [0.94897959, 1.        , 0.31958763, 0.41666667, 0.60824742],\n",
       "       [0.14285714, 0.47959184, 0.24742268, 0.625     , 0.32989691],\n",
       "       [0.25510204, 0.23469388, 0.75257732, 0.48958333, 0.79381443],\n",
       "       [0.24489796, 0.66326531, 0.98969072, 0.35416667, 0.57731959],\n",
       "       [0.16326531, 0.03061224, 0.58762887, 0.20833333, 0.6185567 ],\n",
       "       [0.62244898, 0.40816327, 0.7628866 , 0.55208333, 0.17525773],\n",
       "       [0.48979592, 0.64285714, 0.88659794, 0.38541667, 0.97938144],\n",
       "       [0.68367347, 0.16326531, 0.17525773, 0.38541667, 0.49484536],\n",
       "       [0.81632653, 0.6122449 , 0.73195876, 0.20833333, 0.1443299 ],\n",
       "       [0.08163265, 0.57142857, 0.71134021, 0.26041667, 0.92783505],\n",
       "       [0.64285714, 0.1122449 , 0.18556701, 0.        , 0.22680412],\n",
       "       [0.8877551 , 0.53061224, 0.16494845, 0.3125    , 0.06185567],\n",
       "       [0.65306122, 0.41836735, 0.2371134 , 0.65625   , 0.32989691],\n",
       "       [0.89795918, 0.37755102, 0.93814433, 0.14583333, 0.41237113],\n",
       "       [0.54081633, 0.92857143, 0.03092784, 0.8125    , 0.22680412],\n",
       "       [0.8877551 , 0.35714286, 0.54639175, 0.3125    , 0.07216495],\n",
       "       [0.96938776, 0.5       , 0.83505155, 0.63541667, 0.88659794],\n",
       "       [0.04081633, 0.35714286, 0.12371134, 0.95833333, 0.4742268 ],\n",
       "       [0.10204082, 0.36734694, 0.63917526, 0.33333333, 0.88659794],\n",
       "       [0.55102041, 0.7244898 , 0.91752577, 0.23958333, 0.69072165],\n",
       "       [0.7755102 , 0.87755102, 0.15463918, 0.23958333, 0.24742268],\n",
       "       [0.10204082, 0.75510204, 0.7628866 , 0.13541667, 0.29896907],\n",
       "       [0.53061224, 0.29591837, 0.02061856, 0.97916667, 0.72164948],\n",
       "       [0.33673469, 0.54081633, 0.62886598, 0.58333333, 0.72164948],\n",
       "       [0.03061224, 0.19387755, 0.62886598, 0.        , 0.57731959],\n",
       "       [0.70408163, 0.52040816, 0.71134021, 0.14583333, 0.86597938],\n",
       "       [0.37755102, 0.54081633, 0.3814433 , 0.69791667, 0.12371134],\n",
       "       [0.8877551 , 0.73469388, 0.63917526, 0.73958333, 0.16494845],\n",
       "       [0.43877551, 0.65306122, 0.48453608, 0.89583333, 0.25773196],\n",
       "       [0.29591837, 0.51020408, 0.2371134 , 0.3125    , 0.29896907],\n",
       "       [0.97959184, 0.92857143, 0.13402062, 0.875     , 0.79381443],\n",
       "       [1.        , 0.94897959, 0.82474227, 0.51041667, 0.1443299 ],\n",
       "       [0.7755102 , 0.29591837, 0.64948454, 0.85416667, 0.98969072],\n",
       "       [0.67346939, 0.62244898, 0.91752577, 0.9375    , 0.        ],\n",
       "       [0.13265306, 0.10204082, 0.80412371, 0.94791667, 0.91752577],\n",
       "       [0.73469388, 0.52040816, 0.17525773, 0.78125   , 0.84536082],\n",
       "       [0.1122449 , 0.62244898, 0.36082474, 0.35416667, 0.84536082],\n",
       "       [0.48979592, 0.59183673, 0.        , 0.59375   , 0.2371134 ],\n",
       "       [0.23469388, 0.79591837, 0.55670103, 0.27083333, 0.26804124],\n",
       "       [0.21428571, 0.63265306, 0.43298969, 0.02083333, 0.09278351],\n",
       "       [0.28571429, 0.21428571, 0.78350515, 0.15625   , 0.77319588]])"
      ]
     },
     "execution_count": 28,
     "metadata": {},
     "output_type": "execute_result"
    }
   ],
   "source": [
    "scaler.transform(df)"
   ]
  },
  {
   "cell_type": "code",
   "execution_count": 34,
   "metadata": {},
   "outputs": [
    {
     "data": {
      "text/plain": [
       "array([[ 0.95876289,  0.10416667,  0.82105263,  0.72164948,  0.63265306],\n",
       "       [ 0.87628866,  0.77083333,  0.06315789,  0.79381443,  0.39795918],\n",
       "       [ 0.02061856,  0.64583333,  0.38947368,  0.6185567 ,  0.92857143],\n",
       "       [ 0.63917526,  0.04166667,  0.09473684,  0.95876289,  0.39795918],\n",
       "       [ 0.48453608,  0.85416667,  0.05263158,  0.29896907,  0.59183673],\n",
       "       [ 0.32989691,  0.44791667,  0.72631579,  0.19587629,  0.09183673],\n",
       "       [ 0.7628866 ,  0.97916667,  0.88421053,  0.        ,  0.73469388],\n",
       "       [ 0.06185567,  0.63541667,  0.34736842,  0.8556701 ,  1.        ],\n",
       "       [ 0.26804124,  0.64583333,  0.04210526,  0.10309278,  0.52040816],\n",
       "       [ 0.55670103,  0.38541667,  0.73684211,  0.53608247,  0.17346939],\n",
       "       [ 0.71134021,  0.14583333,  0.43157895,  0.        ,  0.1122449 ],\n",
       "       [ 0.15463918,  0.77083333,  0.8       ,  1.        ,  0.93877551],\n",
       "       [ 0.22680412,  0.36458333,  0.63157895,  0.19587629,  0.34693878],\n",
       "       [ 0.28865979,  0.09375   ,  0.6       ,  0.20618557,  0.26530612],\n",
       "       [ 0.06185567,  0.88541667,  0.24210526,  0.89690722,  0.45918367],\n",
       "       [ 0.46391753,  0.55208333,  0.87368421,  0.09278351,  0.44897959],\n",
       "       [ 0.        ,  0.17708333,  0.57894737,  0.94845361,  0.10204082],\n",
       "       [ 0.08247423,  0.96875   ,  0.33684211,  0.28865979,  0.02040816],\n",
       "       [ 0.83505155,  0.86458333,  0.46315789,  0.1443299 ,  0.69387755],\n",
       "       [ 0.59793814,  0.70833333,  0.50526316,  0.06185567,  0.8877551 ],\n",
       "       [ 0.71134021,  0.69791667,  0.21052632,  0.36082474,  0.79591837],\n",
       "       [ 0.98969072,  0.6875    ,  0.83157895,  0.58762887,  0.7755102 ],\n",
       "       [ 0.45360825,  0.02083333,  0.45263158,  0.29896907,  0.86734694],\n",
       "       [ 0.19587629,  0.20833333,  0.82105263,  0.2371134 ,  0.94897959],\n",
       "       [ 0.71134021,  0.19791667,  0.25263158,  0.77319588,  0.04081633],\n",
       "       [ 0.48453608,  0.88541667,  0.90526316,  0.64948454,  0.82653061],\n",
       "       [ 0.77319588,  0.02083333,  0.55789474,  0.1443299 ,  0.48979592],\n",
       "       [ 0.87628866,  0.53125   ,  0.10526316,  0.48453608,  0.48979592],\n",
       "       [ 0.22680412,  0.19791667,  0.64210526,  0.53608247,  0.60204082],\n",
       "       [ 0.46391753,  0.29166667,  0.6       ,  0.54639175,  0.10204082],\n",
       "       [ 0.39175258,  0.9375    ,  0.44210526,  1.        ,  0.23469388],\n",
       "       [ 0.35051546,  0.38541667,  0.06315789,  0.53608247,  0.67346939],\n",
       "       [ 0.42268041,  0.        ,  0.8       ,  0.70103093,  0.68367347],\n",
       "       [ 0.60824742,  0.17708333,  0.50526316,  0.1443299 ,  0.2755102 ],\n",
       "       [ 0.15463918,  0.89583333,  0.45263158,  0.53608247,  0.15306122],\n",
       "       [ 0.70103093,  0.72916667,  0.85263158,  0.10309278,  0.62244898],\n",
       "       [ 0.96907216,  0.58333333,  0.21052632,  0.88659794,  0.85714286],\n",
       "       [ 0.24742268,  0.78125   ,  0.66315789,  0.55670103,  0.16326531],\n",
       "       [ 0.64948454,  0.58333333,  0.90526316,  0.02061856,  0.80612245],\n",
       "       [ 0.49484536,  0.67708333,  0.89473684,  0.81443299,  0.93877551],\n",
       "       [ 0.04123711,  0.94791667,  0.41052632,  0.22680412,  0.19387755],\n",
       "       [ 0.2371134 ,  1.        ,  0.53684211,  0.73195876,  0.7244898 ],\n",
       "       [ 0.80412371,  0.95833333,  0.64210526,  0.64948454,  0.80612245],\n",
       "       [ 0.37113402,  0.45833333,  0.33684211,  0.25773196,  0.95918367],\n",
       "       [ 0.75257732,  0.73958333,  0.08421053,  0.78350515,  0.79591837],\n",
       "       [ 0.49484536,  0.21875   ,  0.58947368,  0.68041237,  0.        ],\n",
       "       [ 0.32989691,  0.375     ,  0.56842105,  0.36082474,  0.41836735],\n",
       "       [ 0.43298969,  0.5       ,  0.29473684,  0.81443299,  0.85714286],\n",
       "       [ 0.01030928,  0.5625    ,  0.73684211,  0.95876289,  0.94897959],\n",
       "       [ 1.        ,  0.40625   ,  0.53684211,  0.90721649,  0.94897959],\n",
       "       [ 0.86597938,  0.16666667,  0.68421053,  0.17525773,  0.17346939],\n",
       "       [ 0.59793814,  0.85416667,  0.83157895,  0.07216495,  0.67346939],\n",
       "       [ 0.32989691,  0.78125   ,  0.95789474,  0.20618557,  0.69387755],\n",
       "       [ 0.73195876,  0.60416667,  0.32631579,  0.71134021,  0.24489796],\n",
       "       [ 0.78350515,  0.94791667,  0.74736842,  0.77319588,  0.32653061],\n",
       "       [ 0.07216495,  0.4375    ,  0.17894737,  0.84536082,  0.29591837],\n",
       "       [ 0.01030928,  0.46875   ,  0.27368421,  0.48453608,  0.26530612],\n",
       "       [ 0.81443299,  0.72916667,  0.23157895,  0.96907216,  0.57142857],\n",
       "       [ 0.19587629,  0.29166667,  0.03157895,  0.55670103,  0.46938776],\n",
       "       [ 0.46391753,  0.61458333,  0.03157895,  0.77319588,  0.97959184],\n",
       "       [ 0.5257732 ,  0.44791667,  1.        ,  0.40206186,  0.31632653],\n",
       "       [ 0.87628866,  0.80208333,  0.18947368,  0.92783505,  0.13265306],\n",
       "       [ 0.18556701,  0.        ,  0.70526316,  0.25773196,  0.44897959],\n",
       "       [ 0.96907216,  0.32291667,  0.29473684,  0.42268041,  0.79591837],\n",
       "       [ 0.87628866,  0.21875   ,  0.95789474,  0.4742268 ,  0.71428571],\n",
       "       [ 0.22680412,  0.41666667,  0.34736842,  0.31958763,  0.15306122],\n",
       "       [ 0.87628866,  0.21875   ,  0.97894737,  0.03092784,  0.1122449 ],\n",
       "       [ 0.71134021,  0.08333333,  0.88421053,  0.97938144,  0.3877551 ],\n",
       "       [ 0.63917526,  0.63541667,  0.89473684,  0.78350515,  0.93877551],\n",
       "       [ 0.83505155,  0.97916667,  0.68421053,  0.71134021,  0.59183673],\n",
       "       [ 0.51546392,  0.0625    ,  0.38947368,  0.75257732,  0.86734694],\n",
       "       [ 0.12371134,  0.5       ,  0.98947368,  0.25773196,  0.57142857],\n",
       "       [ 0.39175258,  0.16666667,  0.30526316,  0.8556701 ,  0.97959184],\n",
       "       [ 0.25773196,  0.47916667,  0.10526316,  0.72164948,  0.14285714],\n",
       "       [ 0.92783505,  0.17708333,  0.95789474,  0.49484536,  0.65306122],\n",
       "       [ 0.82474227,  0.34375   ,  0.02105263,  0.4742268 ,  0.83673469],\n",
       "       [ 0.25773196,  0.26041667,  0.17894737,  0.89690722,  0.84693878],\n",
       "       [ 0.15463918,  0.60416667,  0.64210526,  0.45360825,  0.03061224],\n",
       "       [ 0.50515464,  0.5       ,  0.74736842,  0.84536082,  0.36734694],\n",
       "       [ 0.5257732 ,  0.95833333,  0.73684211,  0.05154639,  0.36734694],\n",
       "       [ 0.55670103,  0.35416667,  0.12631579,  0.41237113,  0.41836735],\n",
       "       [ 0.71134021,  0.375     ,  0.45263158,  0.73195876,  0.91836735],\n",
       "       [ 0.97938144,  0.36458333,  0.42105263,  0.27835052,  0.66326531],\n",
       "       [ 0.56701031,  0.02083333,  0.54736842,  0.72164948,  0.40816327],\n",
       "       [ 0.67010309,  0.73958333,  0.89473684,  0.69072165,  0.75510204],\n",
       "       [ 0.69072165,  0.94791667,  0.17894737,  0.15463918,  0.57142857],\n",
       "       [ 0.07216495,  0.70833333,  0.98947368,  0.93814433,  0.51020408],\n",
       "       [ 0.53608247,  0.45833333,  0.36842105,  0.15463918,  0.41836735],\n",
       "       [ 0.60824742,  0.07291667,  0.        ,  0.90721649,  0.7244898 ],\n",
       "       [ 0.40206186,  0.23958333,  0.94736842,  0.28865979,  0.95918367],\n",
       "       [ 0.42268041,  0.48958333,  0.69473684,  0.43298969,  0.66326531],\n",
       "       [ 0.82474227,  0.67708333,  0.89473684,  0.80412371,  0.13265306],\n",
       "       [ 0.5257732 ,  0.46875   ,  0.11578947,  0.27835052,  0.68367347],\n",
       "       [ 0.19587629,  0.38541667,  0.41052632,  0.30927835,  0.8877551 ],\n",
       "       [ 0.79381443,  0.57291667,  0.65263158,  0.95876289,  0.36734694],\n",
       "       [ 0.87628866,  0.67708333,  0.13684211,  0.6185567 ,  0.24489796],\n",
       "       [ 1.        ,  0.30208333,  0.4       ,  0.74226804,  0.44897959],\n",
       "       [ 0.24742268,  0.89583333,  0.65263158,  0.6185567 ,  0.89795918],\n",
       "       [ 0.70103093,  0.33333333,  0.58947368,  0.28865979,  0.15306122],\n",
       "       [ 0.48453608,  0.97916667,  0.4       ,  0.11340206,  0.86734694]])"
      ]
     },
     "execution_count": 34,
     "metadata": {},
     "output_type": "execute_result"
    }
   ],
   "source": []
  },
  {
   "cell_type": "markdown",
   "metadata": {},
   "source": [
    "** Using your previously created DataFrame, use [df.columns = [...]](https://stackoverflow.com/questions/11346283/renaming-columns-in-pandas) to rename the pandas columns to be ['f1','f2','f3','f4','label']. Then perform a train/test split with scikitlearn.**"
   ]
  },
  {
   "cell_type": "code",
   "execution_count": 32,
   "metadata": {},
   "outputs": [],
   "source": [
    "df.columns = ['f1', 'f2', 'f3', 'f4', 'label']"
   ]
  },
  {
   "cell_type": "code",
   "execution_count": 35,
   "metadata": {},
   "outputs": [],
   "source": [
    "from sklearn.model_selection import train_test_split"
   ]
  },
  {
   "cell_type": "code",
   "execution_count": 39,
   "metadata": {},
   "outputs": [],
   "source": [
    "X = df[['f1','f2','f3','f4']]\n",
    "Y = df['label']"
   ]
  },
  {
   "cell_type": "code",
   "execution_count": 43,
   "metadata": {},
   "outputs": [],
   "source": [
    "x_train, x_test, y_train, y_test = train_test_split(X,Y, test_size = 0.3, random_state=30)"
   ]
  },
  {
   "cell_type": "markdown",
   "metadata": {},
   "source": [
    "# Great Job!"
   ]
  },
  {
   "cell_type": "code",
   "execution_count": 49,
   "metadata": {},
   "outputs": [
    {
     "data": {
      "text/plain": [
       "(30,)"
      ]
     },
     "execution_count": 49,
     "metadata": {},
     "output_type": "execute_result"
    }
   ],
   "source": [
    "y_test.shape"
   ]
  },
  {
   "cell_type": "code",
   "execution_count": null,
   "metadata": {},
   "outputs": [],
   "source": []
  }
 ],
 "metadata": {
  "kernelspec": {
   "display_name": "Python 3",
   "language": "python",
   "name": "python3"
  },
  "language_info": {
   "codemirror_mode": {
    "name": "ipython",
    "version": 3
   },
   "file_extension": ".py",
   "mimetype": "text/x-python",
   "name": "python",
   "nbconvert_exporter": "python",
   "pygments_lexer": "ipython3",
   "version": "3.7.7"
  }
 },
 "nbformat": 4,
 "nbformat_minor": 2
}
